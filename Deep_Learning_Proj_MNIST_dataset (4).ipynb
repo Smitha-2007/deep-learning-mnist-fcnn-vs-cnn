{
  "nbformat": 4,
  "nbformat_minor": 0,
  "metadata": {
    "colab": {
      "provenance": []
    },
    "kernelspec": {
      "name": "python3",
      "display_name": "Python 3"
    },
    "language_info": {
      "name": "python"
    }
  },
  "cells": [
    {
      "cell_type": "markdown",
      "source": [
        "## **Deep Learning : Handwritten Digit Recognition using MNIST dataset**\n",
        "\n",
        "Project Name: MNIST Digit Recognition using Neural Networks\n",
        "\n",
        "Description: This notebook trains and compares Fully Connected Neural Networks (FCNN) and Convolutional Neural Networks (CNN) for handwritten digit classification using the MNIST dataset.\n",
        "\n",
        "Objective: To analyze the effectiveness of CNNs over FCNNs and improve classification accuracy."
      ],
      "metadata": {
        "id": "7NMF2i-RtUqw"
      }
    },
    {
      "cell_type": "markdown",
      "source": [
        "\n",
        "\n",
        "**About the dataset:**\n",
        "\n",
        "The MNIST dataset is a widely used benchmark dataset for image classification, particularly in Deep Learning.\n",
        "* It consist of handwritten digits(0-9)\n",
        "* It contains 60,000 training images and 10,000 test images in grayscale.\n",
        "* Each image is 28x28 pixels, grayscale.\n",
        "* Labels range from 0 to 9, representing digits.\n",
        "\n",
        "\n"
      ],
      "metadata": {
        "id": "8OddtD2KJCKW"
      }
    },
    {
      "cell_type": "markdown",
      "source": [
        "## Using Fully Connected Neural Network\n",
        "\n",
        "A Fully Connected Neural Network (FCNN), also called a Multi-Layer Perceptron (MLP), is a type of artificial neural network where every neuron in one layer is connected to every neuron in the next layer. It is widely used for classification problems.\n",
        "\n",
        "**Structure of a Fully Connected Neural Network**\n",
        "\n",
        "1. **Input Layer:** Receives the raw data (e.g., images, text, numbers). Each neuron represents a feature of the input.\n",
        "2. **Hidden Layers:** One or more layers between input and output, where computations take place. Each neuron in a hidden layer applies a weight and bias, followed by an activation function (e.g., ReLU, Sigmoid).\n",
        "3. **Output Layer:** Produces the final result, such as classification labels or regression values.\n",
        "\n",
        "**How It Works**\n",
        "\n",
        "1. Forward Propagation:\n",
        "\n",
        "The input data is passed through the network layer by layer.\n",
        "Each neuron performs a weighted sum of its inputs and applies an activation function.\n",
        "The result moves to the next layer until it reaches the output layer.\n",
        "\n",
        "2. Loss Calculation:\n",
        "\n",
        "The output is compared with the actual target value using a loss function (e.g., Mean Squared Error, Cross-Entropy).\n",
        "\n",
        "3. Backpropagation & Optimization:\n",
        "\n",
        "The error is propagated backward using an optimization algorithm (e.g., Gradient Descent, Adam).\n",
        "The network updates its weights to minimize the loss."
      ],
      "metadata": {
        "id": "sAsPd_bMqhR2"
      }
    },
    {
      "cell_type": "code",
      "source": [
        "# Importing Libraries\n",
        "import tensorflow as tf\n",
        "from tensorflow import keras\n",
        "import matplotlib.pyplot as plt\n",
        "import numpy as np\n",
        "import seaborn as sns\n",
        "from sklearn.metrics import confusion_matrix,classification_report\n",
        "\n",
        "#Load the MNIST dataset\n",
        "(x_train,y_train),(x_test,y_test) = keras.datasets.mnist.load_data()\n"
      ],
      "metadata": {
        "id": "unQMDX8yI_ZN",
        "colab": {
          "base_uri": "https://localhost:8080/"
        },
        "outputId": "5ed33949-00bf-4200-89fb-8180df65b759"
      },
      "execution_count": null,
      "outputs": [
        {
          "output_type": "stream",
          "name": "stdout",
          "text": [
            "Downloading data from https://storage.googleapis.com/tensorflow/tf-keras-datasets/mnist.npz\n",
            "\u001b[1m11490434/11490434\u001b[0m \u001b[32m━━━━━━━━━━━━━━━━━━━━\u001b[0m\u001b[37m\u001b[0m \u001b[1m0s\u001b[0m 0us/step\n"
          ]
        }
      ]
    },
    {
      "cell_type": "code",
      "execution_count": null,
      "metadata": {
        "colab": {
          "base_uri": "https://localhost:8080/",
          "height": 415
        },
        "id": "CSJp9JP5-Nok",
        "outputId": "29d2ced9-f3b2-4026-fc18-17b04b70335a"
      },
      "outputs": [
        {
          "output_type": "stream",
          "name": "stdout",
          "text": [
            "Training set shape: (60000, 28, 28)\n",
            "Testing set shape: (10000, 28, 28)\n"
          ]
        },
        {
          "output_type": "display_data",
          "data": {
            "text/plain": [
              "<Figure size 1000x500 with 10 Axes>"
            ],
            "image/png": "[encoded data removed]"
          },
          "metadata": {}
        }
      ],
      "source": [
        "#Show dataset shape\n",
        "print(f\"Training set shape: {x_train.shape}\")\n",
        "print(f\"Testing set shape: {x_test.shape}\")\n",
        "\n",
        "#Display some sample images\n",
        "plt.figure(figsize=(10,5))\n",
        "for i in range(10):\n",
        "  plt.subplot(2,5,i+1)\n",
        "  plt.imshow(x_train[i],cmap='gray')\n",
        "  plt.axis('off')\n",
        "plt.show()"
      ]
    },
    {
      "cell_type": "markdown",
      "source": [
        "## **Preprocessing The data**\n",
        "\n",
        "Before feeding data into neural network , we need to normalize the pixel values (0-255 -> 0-1)and reshape the input.\n",
        "\n",
        "### 1.Normalization (Scaling Pixels 0-255 -> 0-1)\n",
        "\n",
        "* Neural networks work best when input values are small and normalized.\n",
        "* We divide each pixel value by 255 to scale it between 0 and 1, making training more efficient.\n",
        "\n",
        "### 2. Reshaping the Data(Flattening 28 x 28 -> 784)\n",
        "\n",
        "* The MNIST images are grayscale 28 x 28 pixel matrices.\n",
        "* Since a fully connected neural network (MLP - Multi layer Perceptron) requirs a 1D input vector, we reshape each image into a single vector of 784 values(28 x 28 = 784)."
      ],
      "metadata": {
        "id": "GMxKJbJIQTLZ"
      }
    },
    {
      "cell_type": "code",
      "source": [
        "# Normalize pixel values (0-255 -> 0-1) for better model performance\n",
        "\n",
        "x_train = x_train/255.0\n",
        "x_test = x_test/255.0\n",
        "\n",
        "# Flatten?reshape the images(28*28 -> 784)\n",
        "\n",
        "x_train = x_train.reshape(-1,28*28)\n",
        "x_test = x_test.reshape(-1,28*28)\n",
        "\n",
        "# Print new shape\n",
        "\n",
        "print(f\"New Training set shape: {x_train.shape}\")\n",
        "print(f\"New Testing set shape: {x_test.shape}\")"
      ],
      "metadata": {
        "colab": {
          "base_uri": "https://localhost:8080/"
        },
        "id": "TOQ9uqNsQZo4",
        "outputId": "1abf82ef-8b18-4c8e-f77a-d5aeb0d459be"
      },
      "execution_count": null,
      "outputs": [
        {
          "output_type": "stream",
          "name": "stdout",
          "text": [
            "New Training set shape: (60000, 784)\n",
            "New Testing set shape: (10000, 784)\n"
          ]
        }
      ]
    },
    {
      "cell_type": "markdown",
      "source": [
        "## **Building a Neural Network Model**\n",
        "We create a feedforward neural network with\n",
        "\n",
        "* **Input Layer: 784 neurons(one for each pixel)**\n",
        " * Each neuron represent a pixel from the image.\n",
        " * Since our input images are flattened into 784 values, this layer simply passes the input to the next layer.\n",
        "* **Hidden Layer: 128 neurons(with ReLu activation)**\n",
        " * We use 128 neurons, meaning each image is transformed into a 128-dimensional feature representation.\n",
        " * Activation Function: ReLU (Rectified Linear Unit)\n",
        "   * ReLu helps prevent vanishing gradients.\n",
        "   * It allows faster training since negative values are set to zero.\n",
        " * Dropout Layer (Regularization)\n",
        "   * Dropout(0.2) randomly deactivates 20% of neurons during training.\n",
        "   * This helps prevent overfitting (memorizing instead of generalizing).\n",
        "\n",
        "* **Output Layer: 10 neurons(one for each digit)**\n",
        "  * We need 10 neurons (one for each digit 0-9).\n",
        "  * Each neuron outputs a probability for its corresponding digit.\n",
        "  * Softmax Activation ensures that the outputs sum to 1, making it a\n",
        "  probability distribution:"
      ],
      "metadata": {
        "id": "j4pnN47pUOJY"
      }
    },
    {
      "cell_type": "code",
      "source": [
        "# build the neural network\n",
        "model = keras.models.Sequential([\n",
        "    keras.layers.Dense(128,activation='relu',input_shape=(784,)),# Hidden layer\n",
        "    keras.layers.Dropout(0.2), # Dropout for Regularization\n",
        "    keras.layers.Dense(10,activation='softmax') #Output layer\n",
        "])\n",
        "\n",
        "# compile the model\n",
        "model.compile(optimizer='adam',loss='sparse_categorical_crossentropy',metrics=['accuracy'])\n",
        "\n",
        "# Model summary\n",
        "model.summary()"
      ],
      "metadata": {
        "colab": {
          "base_uri": "https://localhost:8080/",
          "height": 280
        },
        "id": "AAWLSdOQVlHh",
        "outputId": "e8fbc2d8-086a-4a79-eeee-63b80fefe660"
      },
      "execution_count": null,
      "outputs": [
        {
          "output_type": "stream",
          "name": "stderr",
          "text": [
            "/usr/local/lib/python3.11/dist-packages/keras/src/layers/core/dense.py:87: UserWarning: Do not pass an `input_shape`/`input_dim` argument to a layer. When using Sequential models, prefer using an `Input(shape)` object as the first layer in the model instead.\n",
            "  super().__init__(activity_regularizer=activity_regularizer, **kwargs)\n"
          ]
        },
        {
          "output_type": "display_data",
          "data": {
            "text/plain": [
              "\u001b[1mModel: \"sequential\"\u001b[0m\n"
            ],
            "text/html": [
              "<pre style=\"white-space:pre;overflow-x:auto;line-height:normal;font-family:Menlo,'DejaVu Sans Mono',consolas,'Courier New',monospace\"><span style=\"font-weight: bold\">Model: \"sequential\"</span>\n",
              "</pre>\n"
            ]
          },
          "metadata": {}
        },
        {
          "output_type": "display_data",
          "data": {
            "text/plain": [
              "┏━━━━━━━━━━━━━━━━━━━━━━━━━━━━━━━━━━━━━━┳━━━━━━━━━━━━━━━━━━━━━━━━━━━━━┳━━━━━━━━━━━━━━━━━┓\n",
              "┃\u001b[1m \u001b[0m\u001b[1mLayer (type)                        \u001b[0m\u001b[1m \u001b[0m┃\u001b[1m \u001b[0m\u001b[1mOutput Shape               \u001b[0m\u001b[1m \u001b[0m┃\u001b[1m \u001b[0m\u001b[1m        Param #\u001b[0m\u001b[1m \u001b[0m┃\n",
              "┡━━━━━━━━━━━━━━━━━━━━━━━━━━━━━━━━━━━━━━╇━━━━━━━━━━━━━━━━━━━━━━━━━━━━━╇━━━━━━━━━━━━━━━━━┩\n",
              "│ dense (\u001b[38;5;33mDense\u001b[0m)                        │ (\u001b[38;5;45mNone\u001b[0m, \u001b[38;5;34m128\u001b[0m)                 │         \u001b[38;5;34m100,480\u001b[0m │\n",
              "├──────────────────────────────────────┼─────────────────────────────┼─────────────────┤\n",
              "│ dropout (\u001b[38;5;33mDropout\u001b[0m)                    │ (\u001b[38;5;45mNone\u001b[0m, \u001b[38;5;34m128\u001b[0m)                 │               \u001b[38;5;34m0\u001b[0m │\n",
              "├──────────────────────────────────────┼─────────────────────────────┼─────────────────┤\n",
              "│ dense_1 (\u001b[38;5;33mDense\u001b[0m)                      │ (\u001b[38;5;45mNone\u001b[0m, \u001b[38;5;34m10\u001b[0m)                  │           \u001b[38;5;34m1,290\u001b[0m │\n",
              "└──────────────────────────────────────┴─────────────────────────────┴─────────────────┘\n"
            ],
            "text/html": [
              "<pre style=\"white-space:pre;overflow-x:auto;line-height:normal;font-family:Menlo,'DejaVu Sans Mono',consolas,'Courier New',monospace\">┏━━━━━━━━━━━━━━━━━━━━━━━━━━━━━━━━━━━━━━┳━━━━━━━━━━━━━━━━━━━━━━━━━━━━━┳━━━━━━━━━━━━━━━━━┓\n",
              "┃<span style=\"font-weight: bold\"> Layer (type)                         </span>┃<span style=\"font-weight: bold\"> Output Shape                </span>┃<span style=\"font-weight: bold\">         Param # </span>┃\n",
              "┡━━━━━━━━━━━━━━━━━━━━━━━━━━━━━━━━━━━━━━╇━━━━━━━━━━━━━━━━━━━━━━━━━━━━━╇━━━━━━━━━━━━━━━━━┩\n",
              "│ dense (<span style=\"color: #0087ff; text-decoration-color: #0087ff\">Dense</span>)                        │ (<span style=\"color: #00d7ff; text-decoration-color: #00d7ff\">None</span>, <span style=\"color: #00af00; text-decoration-color: #00af00\">128</span>)                 │         <span style=\"color: #00af00; text-decoration-color: #00af00\">100,480</span> │\n",
              "├──────────────────────────────────────┼─────────────────────────────┼─────────────────┤\n",
              "│ dropout (<span style=\"color: #0087ff; text-decoration-color: #0087ff\">Dropout</span>)                    │ (<span style=\"color: #00d7ff; text-decoration-color: #00d7ff\">None</span>, <span style=\"color: #00af00; text-decoration-color: #00af00\">128</span>)                 │               <span style=\"color: #00af00; text-decoration-color: #00af00\">0</span> │\n",
              "├──────────────────────────────────────┼─────────────────────────────┼─────────────────┤\n",
              "│ dense_1 (<span style=\"color: #0087ff; text-decoration-color: #0087ff\">Dense</span>)                      │ (<span style=\"color: #00d7ff; text-decoration-color: #00d7ff\">None</span>, <span style=\"color: #00af00; text-decoration-color: #00af00\">10</span>)                  │           <span style=\"color: #00af00; text-decoration-color: #00af00\">1,290</span> │\n",
              "└──────────────────────────────────────┴─────────────────────────────┴─────────────────┘\n",
              "</pre>\n"
            ]
          },
          "metadata": {}
        },
        {
          "output_type": "display_data",
          "data": {
            "text/plain": [
              "\u001b[1m Total params: \u001b[0m\u001b[38;5;34m101,770\u001b[0m (397.54 KB)\n"
            ],
            "text/html": [
              "<pre style=\"white-space:pre;overflow-x:auto;line-height:normal;font-family:Menlo,'DejaVu Sans Mono',consolas,'Courier New',monospace\"><span style=\"font-weight: bold\"> Total params: </span><span style=\"color: #00af00; text-decoration-color: #00af00\">101,770</span> (397.54 KB)\n",
              "</pre>\n"
            ]
          },
          "metadata": {}
        },
        {
          "output_type": "display_data",
          "data": {
            "text/plain": [
              "\u001b[1m Trainable params: \u001b[0m\u001b[38;5;34m101,770\u001b[0m (397.54 KB)\n"
            ],
            "text/html": [
              "<pre style=\"white-space:pre;overflow-x:auto;line-height:normal;font-family:Menlo,'DejaVu Sans Mono',consolas,'Courier New',monospace\"><span style=\"font-weight: bold\"> Trainable params: </span><span style=\"color: #00af00; text-decoration-color: #00af00\">101,770</span> (397.54 KB)\n",
              "</pre>\n"
            ]
          },
          "metadata": {}
        },
        {
          "output_type": "display_data",
          "data": {
            "text/plain": [
              "\u001b[1m Non-trainable params: \u001b[0m\u001b[38;5;34m0\u001b[0m (0.00 B)\n"
            ],
            "text/html": [
              "<pre style=\"white-space:pre;overflow-x:auto;line-height:normal;font-family:Menlo,'DejaVu Sans Mono',consolas,'Courier New',monospace\"><span style=\"font-weight: bold\"> Non-trainable params: </span><span style=\"color: #00af00; text-decoration-color: #00af00\">0</span> (0.00 B)\n",
              "</pre>\n"
            ]
          },
          "metadata": {}
        }
      ]
    },
    {
      "cell_type": "markdown",
      "source": [
        "## **Train and Evaluate the Model**\n",
        "\n",
        "### Forward Pass (During Training)\n",
        "   1) Input image (28×28 pixels) is flattened into a vector (1×784).\n",
        "\n",
        "   2) Passes through 128 neurons in the hidden layer (ReLU applied).\n",
        "\n",
        "   3) Passes through 10 neurons in the output layer (Softmax applied).\n",
        "\n",
        "   4) Outputs probabilities for each digit (0-9).\n",
        "\n",
        "### Backpropagation (Updating Weights)\n",
        "* The model compares predictions to true labels using the loss function 'sparse_categorical_crossentropy':\n",
        "* This calculates how far the prediction is from the actual label.\n",
        "* The model then updates weights using the Adam optimizer:\n",
        "* Adam automatically adjusts learning rates for faster convergence.\n",
        "\n",
        "\n",
        "\n"
      ],
      "metadata": {
        "id": "adxbkAQXYTdT"
      }
    },
    {
      "cell_type": "code",
      "source": [
        "# Train the model\n",
        "history = model.fit(x_train,y_train,epochs=10,validation_data=(x_test,y_test))\n",
        "\n"
      ],
      "metadata": {
        "colab": {
          "base_uri": "https://localhost:8080/"
        },
        "id": "_v21Iv84YgrH",
        "outputId": "cb42b808-9c4c-499d-9bd6-2dec3f9a7926"
      },
      "execution_count": null,
      "outputs": [
        {
          "output_type": "stream",
          "name": "stdout",
          "text": [
            "Epoch 1/10\n",
            "\u001b[1m1875/1875\u001b[0m \u001b[32m━━━━━━━━━━━━━━━━━━━━\u001b[0m\u001b[37m\u001b[0m \u001b[1m19s\u001b[0m 8ms/step - accuracy: 0.8620 - loss: 0.4836 - val_accuracy: 0.9583 - val_loss: 0.1398\n",
            "Epoch 2/10\n",
            "\u001b[1m1875/1875\u001b[0m \u001b[32m━━━━━━━━━━━━━━━━━━━━\u001b[0m\u001b[37m\u001b[0m \u001b[1m19s\u001b[0m 7ms/step - accuracy: 0.9535 - loss: 0.1547 - val_accuracy: 0.9674 - val_loss: 0.1053\n",
            "Epoch 3/10\n",
            "\u001b[1m1875/1875\u001b[0m \u001b[32m━━━━━━━━━━━━━━━━━━━━\u001b[0m\u001b[37m\u001b[0m \u001b[1m15s\u001b[0m 4ms/step - accuracy: 0.9672 - loss: 0.1091 - val_accuracy: 0.9735 - val_loss: 0.0823\n",
            "Epoch 4/10\n",
            "\u001b[1m1875/1875\u001b[0m \u001b[32m━━━━━━━━━━━━━━━━━━━━\u001b[0m\u001b[37m\u001b[0m \u001b[1m9s\u001b[0m 5ms/step - accuracy: 0.9730 - loss: 0.0867 - val_accuracy: 0.9760 - val_loss: 0.0777\n",
            "Epoch 5/10\n",
            "\u001b[1m1875/1875\u001b[0m \u001b[32m━━━━━━━━━━━━━━━━━━━━\u001b[0m\u001b[37m\u001b[0m \u001b[1m10s\u001b[0m 4ms/step - accuracy: 0.9769 - loss: 0.0734 - val_accuracy: 0.9775 - val_loss: 0.0743\n",
            "Epoch 6/10\n",
            "\u001b[1m1875/1875\u001b[0m \u001b[32m━━━━━━━━━━━━━━━━━━━━\u001b[0m\u001b[37m\u001b[0m \u001b[1m10s\u001b[0m 4ms/step - accuracy: 0.9797 - loss: 0.0642 - val_accuracy: 0.9786 - val_loss: 0.0713\n",
            "Epoch 7/10\n",
            "\u001b[1m1875/1875\u001b[0m \u001b[32m━━━━━━━━━━━━━━━━━━━━\u001b[0m\u001b[37m\u001b[0m \u001b[1m10s\u001b[0m 4ms/step - accuracy: 0.9821 - loss: 0.0561 - val_accuracy: 0.9779 - val_loss: 0.0739\n",
            "Epoch 8/10\n",
            "\u001b[1m1875/1875\u001b[0m \u001b[32m━━━━━━━━━━━━━━━━━━━━\u001b[0m\u001b[37m\u001b[0m \u001b[1m11s\u001b[0m 5ms/step - accuracy: 0.9840 - loss: 0.0484 - val_accuracy: 0.9770 - val_loss: 0.0769\n",
            "Epoch 9/10\n",
            "\u001b[1m1875/1875\u001b[0m \u001b[32m━━━━━━━━━━━━━━━━━━━━\u001b[0m\u001b[37m\u001b[0m \u001b[1m11s\u001b[0m 5ms/step - accuracy: 0.9848 - loss: 0.0459 - val_accuracy: 0.9801 - val_loss: 0.0696\n",
            "Epoch 10/10\n",
            "\u001b[1m1875/1875\u001b[0m \u001b[32m━━━━━━━━━━━━━━━━━━━━\u001b[0m\u001b[37m\u001b[0m \u001b[1m9s\u001b[0m 5ms/step - accuracy: 0.9877 - loss: 0.0390 - val_accuracy: 0.9794 - val_loss: 0.0705\n"
          ]
        }
      ]
    },
    {
      "cell_type": "markdown",
      "source": [
        "## Model Evaluation\n",
        "\n",
        "* The model is tested on unseen images (test set).\n",
        "* It predicts a digit for each test image.\n",
        "* The accuracy is calculated based on correct predictions.\n",
        "\n"
      ],
      "metadata": {
        "id": "cL_RGzf2LVvZ"
      }
    },
    {
      "cell_type": "code",
      "source": [
        "# Evaluate on Test data\n",
        "test_loss,test_acc = model.evaluate(x_test,y_test)\n",
        "\n",
        "print(f\"Test Accuracy:{test_acc:.4f}\")"
      ],
      "metadata": {
        "colab": {
          "base_uri": "https://localhost:8080/"
        },
        "id": "zc3p23m-ZZLK",
        "outputId": "ff60e129-0928-4a75-d21a-b1064ec52967"
      },
      "execution_count": null,
      "outputs": [
        {
          "output_type": "stream",
          "name": "stdout",
          "text": [
            "\u001b[1m313/313\u001b[0m \u001b[32m━━━━━━━━━━━━━━━━━━━━\u001b[0m\u001b[37m\u001b[0m \u001b[1m1s\u001b[0m 2ms/step - accuracy: 0.9760 - loss: 0.0844\n",
            "Test Accuracy:0.9794\n"
          ]
        }
      ]
    },
    {
      "cell_type": "markdown",
      "source": [
        "## Summary of Steps\n",
        "\n",
        "1) Preprocess: Normalize pixel values (0-1), reshape (28×28 → 784).\n",
        "\n",
        "2) Build Model: Input (784) → Hidden (128, ReLU, Dropout) → Output (10, Softmax).\n",
        "\n",
        "3) Train Model: Forward pass → Calculate Loss → Backpropagation → Update Weights.\n",
        "\n",
        "4) Evaluate: Test on new data → Measure Accuracy."
      ],
      "metadata": {
        "id": "QsuLw31EMAMO"
      }
    },
    {
      "cell_type": "markdown",
      "source": [
        "## How to improve accuracy\n",
        "\n",
        "* If accuracy is low, we can improve it by tuning hyperparameters, adding layers, or using CNNs!"
      ],
      "metadata": {
        "id": "MO7MlT4GMhc7"
      }
    },
    {
      "cell_type": "code",
      "source": [
        "model1 = keras.models.Sequential([\n",
        "    keras.layers.Dense(256,activation='relu',input_shape=(784,)),# Hidden layer\n",
        "    keras.layers.Dropout(0.2), # Dropout for Regularization\n",
        "    keras.layers.Dense(128,activation='relu'),\n",
        "    keras.layers.Dropout(0.2),\n",
        "    keras.layers.Dense(10,activation = 'softmax') # Dropout for Regularization\n",
        "])\n",
        "\n",
        "model1.compile(optimizer='adam',loss='sparse_categorical_crossentropy',metrics=['accuracy'])\n",
        "\n",
        "# Model summary\n",
        "model1.summary()"
      ],
      "metadata": {
        "colab": {
          "base_uri": "https://localhost:8080/",
          "height": 289
        },
        "id": "t2pjQHPwL_vE",
        "outputId": "e3f159d5-b548-4042-9c3b-3e85be7782a5"
      },
      "execution_count": null,
      "outputs": [
        {
          "output_type": "display_data",
          "data": {
            "text/plain": [
              "\u001b[1mModel: \"sequential_1\"\u001b[0m\n"
            ],
            "text/html": [
              "<pre style=\"white-space:pre;overflow-x:auto;line-height:normal;font-family:Menlo,'DejaVu Sans Mono',consolas,'Courier New',monospace\"><span style=\"font-weight: bold\">Model: \"sequential_1\"</span>\n",
              "</pre>\n"
            ]
          },
          "metadata": {}
        },
        {
          "output_type": "display_data",
          "data": {
            "text/plain": [
              "┏━━━━━━━━━━━━━━━━━━━━━━━━━━━━━━━━━━━━━━┳━━━━━━━━━━━━━━━━━━━━━━━━━━━━━┳━━━━━━━━━━━━━━━━━┓\n",
              "┃\u001b[1m \u001b[0m\u001b[1mLayer (type)                        \u001b[0m\u001b[1m \u001b[0m┃\u001b[1m \u001b[0m\u001b[1mOutput Shape               \u001b[0m\u001b[1m \u001b[0m┃\u001b[1m \u001b[0m\u001b[1m        Param #\u001b[0m\u001b[1m \u001b[0m┃\n",
              "┡━━━━━━━━━━━━━━━━━━━━━━━━━━━━━━━━━━━━━━╇━━━━━━━━━━━━━━━━━━━━━━━━━━━━━╇━━━━━━━━━━━━━━━━━┩\n",
              "│ dense_2 (\u001b[38;5;33mDense\u001b[0m)                      │ (\u001b[38;5;45mNone\u001b[0m, \u001b[38;5;34m256\u001b[0m)                 │         \u001b[38;5;34m200,960\u001b[0m │\n",
              "├──────────────────────────────────────┼─────────────────────────────┼─────────────────┤\n",
              "│ dropout_1 (\u001b[38;5;33mDropout\u001b[0m)                  │ (\u001b[38;5;45mNone\u001b[0m, \u001b[38;5;34m256\u001b[0m)                 │               \u001b[38;5;34m0\u001b[0m │\n",
              "├──────────────────────────────────────┼─────────────────────────────┼─────────────────┤\n",
              "│ dense_3 (\u001b[38;5;33mDense\u001b[0m)                      │ (\u001b[38;5;45mNone\u001b[0m, \u001b[38;5;34m128\u001b[0m)                 │          \u001b[38;5;34m32,896\u001b[0m │\n",
              "├──────────────────────────────────────┼─────────────────────────────┼─────────────────┤\n",
              "│ dropout_2 (\u001b[38;5;33mDropout\u001b[0m)                  │ (\u001b[38;5;45mNone\u001b[0m, \u001b[38;5;34m128\u001b[0m)                 │               \u001b[38;5;34m0\u001b[0m │\n",
              "├──────────────────────────────────────┼─────────────────────────────┼─────────────────┤\n",
              "│ dense_4 (\u001b[38;5;33mDense\u001b[0m)                      │ (\u001b[38;5;45mNone\u001b[0m, \u001b[38;5;34m10\u001b[0m)                  │           \u001b[38;5;34m1,290\u001b[0m │\n",
              "└──────────────────────────────────────┴─────────────────────────────┴─────────────────┘\n"
            ],
            "text/html": [
              "<pre style=\"white-space:pre;overflow-x:auto;line-height:normal;font-family:Menlo,'DejaVu Sans Mono',consolas,'Courier New',monospace\">┏━━━━━━━━━━━━━━━━━━━━━━━━━━━━━━━━━━━━━━┳━━━━━━━━━━━━━━━━━━━━━━━━━━━━━┳━━━━━━━━━━━━━━━━━┓\n",
              "┃<span style=\"font-weight: bold\"> Layer (type)                         </span>┃<span style=\"font-weight: bold\"> Output Shape                </span>┃<span style=\"font-weight: bold\">         Param # </span>┃\n",
              "┡━━━━━━━━━━━━━━━━━━━━━━━━━━━━━━━━━━━━━━╇━━━━━━━━━━━━━━━━━━━━━━━━━━━━━╇━━━━━━━━━━━━━━━━━┩\n",
              "│ dense_2 (<span style=\"color: #0087ff; text-decoration-color: #0087ff\">Dense</span>)                      │ (<span style=\"color: #00d7ff; text-decoration-color: #00d7ff\">None</span>, <span style=\"color: #00af00; text-decoration-color: #00af00\">256</span>)                 │         <span style=\"color: #00af00; text-decoration-color: #00af00\">200,960</span> │\n",
              "├──────────────────────────────────────┼─────────────────────────────┼─────────────────┤\n",
              "│ dropout_1 (<span style=\"color: #0087ff; text-decoration-color: #0087ff\">Dropout</span>)                  │ (<span style=\"color: #00d7ff; text-decoration-color: #00d7ff\">None</span>, <span style=\"color: #00af00; text-decoration-color: #00af00\">256</span>)                 │               <span style=\"color: #00af00; text-decoration-color: #00af00\">0</span> │\n",
              "├──────────────────────────────────────┼─────────────────────────────┼─────────────────┤\n",
              "│ dense_3 (<span style=\"color: #0087ff; text-decoration-color: #0087ff\">Dense</span>)                      │ (<span style=\"color: #00d7ff; text-decoration-color: #00d7ff\">None</span>, <span style=\"color: #00af00; text-decoration-color: #00af00\">128</span>)                 │          <span style=\"color: #00af00; text-decoration-color: #00af00\">32,896</span> │\n",
              "├──────────────────────────────────────┼─────────────────────────────┼─────────────────┤\n",
              "│ dropout_2 (<span style=\"color: #0087ff; text-decoration-color: #0087ff\">Dropout</span>)                  │ (<span style=\"color: #00d7ff; text-decoration-color: #00d7ff\">None</span>, <span style=\"color: #00af00; text-decoration-color: #00af00\">128</span>)                 │               <span style=\"color: #00af00; text-decoration-color: #00af00\">0</span> │\n",
              "├──────────────────────────────────────┼─────────────────────────────┼─────────────────┤\n",
              "│ dense_4 (<span style=\"color: #0087ff; text-decoration-color: #0087ff\">Dense</span>)                      │ (<span style=\"color: #00d7ff; text-decoration-color: #00d7ff\">None</span>, <span style=\"color: #00af00; text-decoration-color: #00af00\">10</span>)                  │           <span style=\"color: #00af00; text-decoration-color: #00af00\">1,290</span> │\n",
              "└──────────────────────────────────────┴─────────────────────────────┴─────────────────┘\n",
              "</pre>\n"
            ]
          },
          "metadata": {}
        },
        {
          "output_type": "display_data",
          "data": {
            "text/plain": [
              "\u001b[1m Total params: \u001b[0m\u001b[38;5;34m235,146\u001b[0m (918.54 KB)\n"
            ],
            "text/html": [
              "<pre style=\"white-space:pre;overflow-x:auto;line-height:normal;font-family:Menlo,'DejaVu Sans Mono',consolas,'Courier New',monospace\"><span style=\"font-weight: bold\"> Total params: </span><span style=\"color: #00af00; text-decoration-color: #00af00\">235,146</span> (918.54 KB)\n",
              "</pre>\n"
            ]
          },
          "metadata": {}
        },
        {
          "output_type": "display_data",
          "data": {
            "text/plain": [
              "\u001b[1m Trainable params: \u001b[0m\u001b[38;5;34m235,146\u001b[0m (918.54 KB)\n"
            ],
            "text/html": [
              "<pre style=\"white-space:pre;overflow-x:auto;line-height:normal;font-family:Menlo,'DejaVu Sans Mono',consolas,'Courier New',monospace\"><span style=\"font-weight: bold\"> Trainable params: </span><span style=\"color: #00af00; text-decoration-color: #00af00\">235,146</span> (918.54 KB)\n",
              "</pre>\n"
            ]
          },
          "metadata": {}
        },
        {
          "output_type": "display_data",
          "data": {
            "text/plain": [
              "\u001b[1m Non-trainable params: \u001b[0m\u001b[38;5;34m0\u001b[0m (0.00 B)\n"
            ],
            "text/html": [
              "<pre style=\"white-space:pre;overflow-x:auto;line-height:normal;font-family:Menlo,'DejaVu Sans Mono',consolas,'Courier New',monospace\"><span style=\"font-weight: bold\"> Non-trainable params: </span><span style=\"color: #00af00; text-decoration-color: #00af00\">0</span> (0.00 B)\n",
              "</pre>\n"
            ]
          },
          "metadata": {}
        }
      ]
    },
    {
      "cell_type": "code",
      "source": [
        "history1 = model1.fit(x_train,y_train,epochs=10,validation_data=(x_test,y_test))\n",
        "\n",
        "test_loss1, test_acc1 = model1.evaluate(x_test,y_test)\n",
        "\n",
        "print(f\"Test Accuracy:{test_acc1:.4f}\")"
      ],
      "metadata": {
        "colab": {
          "base_uri": "https://localhost:8080/"
        },
        "id": "_nOYcUBgODXW",
        "outputId": "b197311a-d3ec-4fbd-a3e4-7e0bb1faef54"
      },
      "execution_count": null,
      "outputs": [
        {
          "output_type": "stream",
          "name": "stdout",
          "text": [
            "Epoch 1/10\n",
            "\u001b[1m1875/1875\u001b[0m \u001b[32m━━━━━━━━━━━━━━━━━━━━\u001b[0m\u001b[37m\u001b[0m \u001b[1m13s\u001b[0m 6ms/step - accuracy: 0.8585 - loss: 0.4586 - val_accuracy: 0.9669 - val_loss: 0.1025\n",
            "Epoch 2/10\n",
            "\u001b[1m1875/1875\u001b[0m \u001b[32m━━━━━━━━━━━━━━━━━━━━\u001b[0m\u001b[37m\u001b[0m \u001b[1m14s\u001b[0m 8ms/step - accuracy: 0.9622 - loss: 0.1258 - val_accuracy: 0.9741 - val_loss: 0.0809\n",
            "Epoch 3/10\n",
            "\u001b[1m1875/1875\u001b[0m \u001b[32m━━━━━━━━━━━━━━━━━━━━\u001b[0m\u001b[37m\u001b[0m \u001b[1m18s\u001b[0m 7ms/step - accuracy: 0.9717 - loss: 0.0910 - val_accuracy: 0.9772 - val_loss: 0.0779\n",
            "Epoch 4/10\n",
            "\u001b[1m1875/1875\u001b[0m \u001b[32m━━━━━━━━━━━━━━━━━━━━\u001b[0m\u001b[37m\u001b[0m \u001b[1m20s\u001b[0m 6ms/step - accuracy: 0.9771 - loss: 0.0728 - val_accuracy: 0.9789 - val_loss: 0.0676\n",
            "Epoch 5/10\n",
            "\u001b[1m1875/1875\u001b[0m \u001b[32m━━━━━━━━━━━━━━━━━━━━\u001b[0m\u001b[37m\u001b[0m \u001b[1m12s\u001b[0m 7ms/step - accuracy: 0.9796 - loss: 0.0650 - val_accuracy: 0.9762 - val_loss: 0.0778\n",
            "Epoch 6/10\n",
            "\u001b[1m1875/1875\u001b[0m \u001b[32m━━━━━━━━━━━━━━━━━━━━\u001b[0m\u001b[37m\u001b[0m \u001b[1m12s\u001b[0m 7ms/step - accuracy: 0.9823 - loss: 0.0546 - val_accuracy: 0.9748 - val_loss: 0.0857\n",
            "Epoch 7/10\n",
            "\u001b[1m1875/1875\u001b[0m \u001b[32m━━━━━━━━━━━━━━━━━━━━\u001b[0m\u001b[37m\u001b[0m \u001b[1m12s\u001b[0m 6ms/step - accuracy: 0.9846 - loss: 0.0465 - val_accuracy: 0.9786 - val_loss: 0.0757\n",
            "Epoch 8/10\n",
            "\u001b[1m1875/1875\u001b[0m \u001b[32m━━━━━━━━━━━━━━━━━━━━\u001b[0m\u001b[37m\u001b[0m \u001b[1m20s\u001b[0m 6ms/step - accuracy: 0.9847 - loss: 0.0477 - val_accuracy: 0.9785 - val_loss: 0.0728\n",
            "Epoch 9/10\n",
            "\u001b[1m1875/1875\u001b[0m \u001b[32m━━━━━━━━━━━━━━━━━━━━\u001b[0m\u001b[37m\u001b[0m \u001b[1m21s\u001b[0m 6ms/step - accuracy: 0.9867 - loss: 0.0408 - val_accuracy: 0.9824 - val_loss: 0.0708\n",
            "Epoch 10/10\n",
            "\u001b[1m1875/1875\u001b[0m \u001b[32m━━━━━━━━━━━━━━━━━━━━\u001b[0m\u001b[37m\u001b[0m \u001b[1m12s\u001b[0m 7ms/step - accuracy: 0.9871 - loss: 0.0391 - val_accuracy: 0.9829 - val_loss: 0.0719\n",
            "\u001b[1m313/313\u001b[0m \u001b[32m━━━━━━━━━━━━━━━━━━━━\u001b[0m\u001b[37m\u001b[0m \u001b[1m1s\u001b[0m 2ms/step - accuracy: 0.9782 - loss: 0.0909\n",
            "Test Accuracy:0.9829\n"
          ]
        }
      ]
    },
    {
      "cell_type": "markdown",
      "source": [
        "## Using CNN(Convolutional Neural Network)"
      ],
      "metadata": {
        "id": "WkI8q5_0qsa_"
      }
    },
    {
      "cell_type": "markdown",
      "source": [
        "Let's dive into Convolutional Neural Networks (CNNs) and how they improve performance on the MNIST dataset compared to a basic fully connected neural network"
      ],
      "metadata": {
        "id": "7lFJJFI1q-rD"
      }
    },
    {
      "cell_type": "markdown",
      "source": [
        "### Why CNN Instead of a Fully Connected Network?\n",
        "\n",
        "1) Preserves Spatial Structure\n",
        "\n",
        "* In a fully connected (Dense) network, we flatten the image (28×28 → 784), losing spatial relationships.\n",
        "* CNNs keep the 2D structure intact, making them better for image analysis.\n",
        "\n",
        "2) Uses Local Patterns (Edges, Shapes, Textures)\n",
        "\n",
        "* CNNs use filters (kernels) to extract important features like edges, curves, and textures.\n",
        "* Unlike a Dense network, which treats each pixel individually, CNNs identify meaningful patterns.\n",
        "\n",
        "3) Fewer Parameters & Faster Training\n",
        "\n",
        "* Fully connected layers have millions of parameters → Prone to overfitting.\n",
        "* CNNs share weights across neurons, reducing the number of parameters and improving efficiency.\n"
      ],
      "metadata": {
        "id": "FAhKbuQxtpi3"
      }
    },
    {
      "cell_type": "markdown",
      "source": [
        "### CNN Architecture for MNIST\n",
        "A Convolutional Neural Network (CNN) is a type of deep learning model specifically designed for image processing and pattern recognition. Unlike Fully Connected Neural Networks (FCNNs), CNNs preserve spatial relationships between pixels, making them highly efficient for analyzing images, videos, and even sequential data.\n",
        "\n",
        "A basic CNN consists of:\n",
        "\n",
        "**Convolutional Layer (Conv2D) → Detects features (edges, patterns)**\n",
        "\n",
        "Applies filters (kernels) to detect features like edges, textures, and patterns in an image.\n",
        "\n",
        "Each filter slides over the input image (this process is called convolution) to create a feature map.\n",
        "\n",
        "The filters learn different characteristics, such as corners in early layers and complex shapes in deeper layers.\n",
        "\n",
        "**Pooling Layer (MaxPooling2D) → Reduces dimension**\n",
        "\n",
        "Reduces the size of feature maps while preserving important features.\n",
        "\n",
        "Common pooling techniques:\n",
        "\n",
        "Max Pooling: Selects the maximum value in each region.\n",
        "\n",
        "Average Pooling: Takes the average of values in each region.\n",
        "\n",
        "**Flatten Layer → Converts feature maps into a vector**\n",
        "\n",
        "* Convolutional and pooling layers maintain spatial relationships (height, width, and depth). However, the fully connected layers require a 1D input to perform classification. Flattening bridges this gap.\n",
        "* The essential features learned from convolution and pooling operations are retained but reshaped into a single vector.\n",
        "\n",
        "**Fully Connected Layer (Dense) → Classifies the digit**\n",
        "\n",
        "* The Fully Connected (FC) Layer is the final stage in a Convolutional Neural Network (CNN). It takes the flattened feature maps from previous layers and learns patterns to classify the input into different categories.\n",
        "\n",
        "* The FC layer combines all extracted features and assigns weights to determine the final classification output.\n",
        "* If the task is classification, a Softmax activation is used to output probabilities for each class.\n",
        "\n",
        "* If it's a regression problem, a linear activation (no activation) is used.\n",
        "\n"
      ],
      "metadata": {
        "id": "vUmThnM3vcEN"
      }
    },
    {
      "cell_type": "code",
      "source": [
        "# importing Libraries\n",
        "\n",
        "import tensorflow as tf\n",
        "from tensorflow import keras\n",
        "from keras import layers\n",
        "import matplotlib.pyplot as plt\n",
        "\n",
        "# Load dataset\n",
        "\n",
        "(x_train,y_train),(x_test,y_test) = keras.datasets.mnist.load_data()\n",
        "\n",
        "# Normalizing the data\n",
        "\n",
        "x_train = x_train/255.0\n",
        "x_test = x_test/255.0\n"
      ],
      "metadata": {
        "id": "8raiLyUMq0O1"
      },
      "execution_count": null,
      "outputs": []
    },
    {
      "cell_type": "markdown",
      "source": [
        "### Reshape images to (28,28,1) for CNN input\n",
        "* CNNs are designed to process 3D inputs: (height, width, channels).\n",
        "* We reshape MNIST images to (28,28,1) because CNNs require a \"channel\" dimension, even for grayscale images.\n",
        "* (28,28) → The height and width of the image.\n",
        "* 1 → The number of color channels.\n",
        "  * Since MNIST images are grayscale, we only have 1 channel.\n",
        "  * If it were a colored image (RGB), the shape would be (28,28,3) (3 channels for Red, Green, and Blue).\n",
        "* This allows the CNN to correctly apply convolutional filters and learn spatial features\n",
        "* Each filter (kernel) in a convolutional layer operates across all channels."
      ],
      "metadata": {
        "id": "IIp7rSrbz-ho"
      }
    },
    {
      "cell_type": "code",
      "source": [
        "# Reshape image to (28,28,1) for CNN input\n",
        "x_train = x_train.reshape(-1,28,28,1)\n",
        "x_test = x_test.reshape(-1,28,28,1)\n"
      ],
      "metadata": {
        "id": "A1yzQGXez-Lk"
      },
      "execution_count": null,
      "outputs": []
    },
    {
      "cell_type": "code",
      "source": [
        "# CNN model\n",
        "model2 = keras.models.Sequential([layers.Conv2D(32,(3,3),activation ='relu',input_shape=(28,28,1) ),#Uses 32 filters of size (3×3).\n",
        "                                                                                                   #Outputs a new set of feature maps.\n",
        "                                                                                                  #Relu applies non-linearity, allowing the network to learn complex patterns.\n",
        "                                 layers.MaxPooling2D((2,2)),  #(2,2) means it reduces the image by half. Helps reduce overfitting.\n",
        "\n",
        "                                 layers.Conv2D(64,(3,3),activation='relu'),\n",
        "                                 layers.MaxPooling2D((2,2)),\n",
        "\n",
        "                                 layers.Flatten(),\n",
        "                                 layers.Dense(128,activation='relu'),\n",
        "                                 layers.Dense(10,activation='softmax')\n",
        "                                                   ])\n",
        "\n",
        "#compile the model\n",
        "model2.compile(optimizer='adam',loss='sparse_categorical_crossentropy',metrics=['accuracy'])\n",
        "\n",
        "# Model summary\n",
        "model2.summary()"
      ],
      "metadata": {
        "colab": {
          "base_uri": "https://localhost:8080/",
          "height": 408
        },
        "id": "iNKja6DDr_Cs",
        "outputId": "bcd2d0b9-e7c2-4453-9259-2f598a76da13"
      },
      "execution_count": null,
      "outputs": [
        {
          "output_type": "stream",
          "name": "stderr",
          "text": [
            "/usr/local/lib/python3.11/dist-packages/keras/src/layers/convolutional/base_conv.py:107: UserWarning: Do not pass an `input_shape`/`input_dim` argument to a layer. When using Sequential models, prefer using an `Input(shape)` object as the first layer in the model instead.\n",
            "  super().__init__(activity_regularizer=activity_regularizer, **kwargs)\n"
          ]
        },
        {
          "output_type": "display_data",
          "data": {
            "text/plain": [
              "\u001b[1mModel: \"sequential_2\"\u001b[0m\n"
            ],
            "text/html": [
              "<pre style=\"white-space:pre;overflow-x:auto;line-height:normal;font-family:Menlo,'DejaVu Sans Mono',consolas,'Courier New',monospace\"><span style=\"font-weight: bold\">Model: \"sequential_2\"</span>\n",
              "</pre>\n"
            ]
          },
          "metadata": {}
        },
        {
          "output_type": "display_data",
          "data": {
            "text/plain": [
              "┏━━━━━━━━━━━━━━━━━━━━━━━━━━━━━━━━━━━━━━┳━━━━━━━━━━━━━━━━━━━━━━━━━━━━━┳━━━━━━━━━━━━━━━━━┓\n",
              "┃\u001b[1m \u001b[0m\u001b[1mLayer (type)                        \u001b[0m\u001b[1m \u001b[0m┃\u001b[1m \u001b[0m\u001b[1mOutput Shape               \u001b[0m\u001b[1m \u001b[0m┃\u001b[1m \u001b[0m\u001b[1m        Param #\u001b[0m\u001b[1m \u001b[0m┃\n",
              "┡━━━━━━━━━━━━━━━━━━━━━━━━━━━━━━━━━━━━━━╇━━━━━━━━━━━━━━━━━━━━━━━━━━━━━╇━━━━━━━━━━━━━━━━━┩\n",
              "│ conv2d (\u001b[38;5;33mConv2D\u001b[0m)                      │ (\u001b[38;5;45mNone\u001b[0m, \u001b[38;5;34m26\u001b[0m, \u001b[38;5;34m26\u001b[0m, \u001b[38;5;34m32\u001b[0m)          │             \u001b[38;5;34m320\u001b[0m │\n",
              "├──────────────────────────────────────┼─────────────────────────────┼─────────────────┤\n",
              "│ max_pooling2d (\u001b[38;5;33mMaxPooling2D\u001b[0m)         │ (\u001b[38;5;45mNone\u001b[0m, \u001b[38;5;34m13\u001b[0m, \u001b[38;5;34m13\u001b[0m, \u001b[38;5;34m32\u001b[0m)          │               \u001b[38;5;34m0\u001b[0m │\n",
              "├──────────────────────────────────────┼─────────────────────────────┼─────────────────┤\n",
              "│ conv2d_1 (\u001b[38;5;33mConv2D\u001b[0m)                    │ (\u001b[38;5;45mNone\u001b[0m, \u001b[38;5;34m11\u001b[0m, \u001b[38;5;34m11\u001b[0m, \u001b[38;5;34m64\u001b[0m)          │          \u001b[38;5;34m18,496\u001b[0m │\n",
              "├──────────────────────────────────────┼─────────────────────────────┼─────────────────┤\n",
              "│ max_pooling2d_1 (\u001b[38;5;33mMaxPooling2D\u001b[0m)       │ (\u001b[38;5;45mNone\u001b[0m, \u001b[38;5;34m5\u001b[0m, \u001b[38;5;34m5\u001b[0m, \u001b[38;5;34m64\u001b[0m)            │               \u001b[38;5;34m0\u001b[0m │\n",
              "├──────────────────────────────────────┼─────────────────────────────┼─────────────────┤\n",
              "│ flatten (\u001b[38;5;33mFlatten\u001b[0m)                    │ (\u001b[38;5;45mNone\u001b[0m, \u001b[38;5;34m1600\u001b[0m)                │               \u001b[38;5;34m0\u001b[0m │\n",
              "├──────────────────────────────────────┼─────────────────────────────┼─────────────────┤\n",
              "│ dense_5 (\u001b[38;5;33mDense\u001b[0m)                      │ (\u001b[38;5;45mNone\u001b[0m, \u001b[38;5;34m128\u001b[0m)                 │         \u001b[38;5;34m204,928\u001b[0m │\n",
              "├──────────────────────────────────────┼─────────────────────────────┼─────────────────┤\n",
              "│ dense_6 (\u001b[38;5;33mDense\u001b[0m)                      │ (\u001b[38;5;45mNone\u001b[0m, \u001b[38;5;34m10\u001b[0m)                  │           \u001b[38;5;34m1,290\u001b[0m │\n",
              "└──────────────────────────────────────┴─────────────────────────────┴─────────────────┘\n"
            ],
            "text/html": [
              "<pre style=\"white-space:pre;overflow-x:auto;line-height:normal;font-family:Menlo,'DejaVu Sans Mono',consolas,'Courier New',monospace\">┏━━━━━━━━━━━━━━━━━━━━━━━━━━━━━━━━━━━━━━┳━━━━━━━━━━━━━━━━━━━━━━━━━━━━━┳━━━━━━━━━━━━━━━━━┓\n",
              "┃<span style=\"font-weight: bold\"> Layer (type)                         </span>┃<span style=\"font-weight: bold\"> Output Shape                </span>┃<span style=\"font-weight: bold\">         Param # </span>┃\n",
              "┡━━━━━━━━━━━━━━━━━━━━━━━━━━━━━━━━━━━━━━╇━━━━━━━━━━━━━━━━━━━━━━━━━━━━━╇━━━━━━━━━━━━━━━━━┩\n",
              "│ conv2d (<span style=\"color: #0087ff; text-decoration-color: #0087ff\">Conv2D</span>)                      │ (<span style=\"color: #00d7ff; text-decoration-color: #00d7ff\">None</span>, <span style=\"color: #00af00; text-decoration-color: #00af00\">26</span>, <span style=\"color: #00af00; text-decoration-color: #00af00\">26</span>, <span style=\"color: #00af00; text-decoration-color: #00af00\">32</span>)          │             <span style=\"color: #00af00; text-decoration-color: #00af00\">320</span> │\n",
              "├──────────────────────────────────────┼─────────────────────────────┼─────────────────┤\n",
              "│ max_pooling2d (<span style=\"color: #0087ff; text-decoration-color: #0087ff\">MaxPooling2D</span>)         │ (<span style=\"color: #00d7ff; text-decoration-color: #00d7ff\">None</span>, <span style=\"color: #00af00; text-decoration-color: #00af00\">13</span>, <span style=\"color: #00af00; text-decoration-color: #00af00\">13</span>, <span style=\"color: #00af00; text-decoration-color: #00af00\">32</span>)          │               <span style=\"color: #00af00; text-decoration-color: #00af00\">0</span> │\n",
              "├──────────────────────────────────────┼─────────────────────────────┼─────────────────┤\n",
              "│ conv2d_1 (<span style=\"color: #0087ff; text-decoration-color: #0087ff\">Conv2D</span>)                    │ (<span style=\"color: #00d7ff; text-decoration-color: #00d7ff\">None</span>, <span style=\"color: #00af00; text-decoration-color: #00af00\">11</span>, <span style=\"color: #00af00; text-decoration-color: #00af00\">11</span>, <span style=\"color: #00af00; text-decoration-color: #00af00\">64</span>)          │          <span style=\"color: #00af00; text-decoration-color: #00af00\">18,496</span> │\n",
              "├──────────────────────────────────────┼─────────────────────────────┼─────────────────┤\n",
              "│ max_pooling2d_1 (<span style=\"color: #0087ff; text-decoration-color: #0087ff\">MaxPooling2D</span>)       │ (<span style=\"color: #00d7ff; text-decoration-color: #00d7ff\">None</span>, <span style=\"color: #00af00; text-decoration-color: #00af00\">5</span>, <span style=\"color: #00af00; text-decoration-color: #00af00\">5</span>, <span style=\"color: #00af00; text-decoration-color: #00af00\">64</span>)            │               <span style=\"color: #00af00; text-decoration-color: #00af00\">0</span> │\n",
              "├──────────────────────────────────────┼─────────────────────────────┼─────────────────┤\n",
              "│ flatten (<span style=\"color: #0087ff; text-decoration-color: #0087ff\">Flatten</span>)                    │ (<span style=\"color: #00d7ff; text-decoration-color: #00d7ff\">None</span>, <span style=\"color: #00af00; text-decoration-color: #00af00\">1600</span>)                │               <span style=\"color: #00af00; text-decoration-color: #00af00\">0</span> │\n",
              "├──────────────────────────────────────┼─────────────────────────────┼─────────────────┤\n",
              "│ dense_5 (<span style=\"color: #0087ff; text-decoration-color: #0087ff\">Dense</span>)                      │ (<span style=\"color: #00d7ff; text-decoration-color: #00d7ff\">None</span>, <span style=\"color: #00af00; text-decoration-color: #00af00\">128</span>)                 │         <span style=\"color: #00af00; text-decoration-color: #00af00\">204,928</span> │\n",
              "├──────────────────────────────────────┼─────────────────────────────┼─────────────────┤\n",
              "│ dense_6 (<span style=\"color: #0087ff; text-decoration-color: #0087ff\">Dense</span>)                      │ (<span style=\"color: #00d7ff; text-decoration-color: #00d7ff\">None</span>, <span style=\"color: #00af00; text-decoration-color: #00af00\">10</span>)                  │           <span style=\"color: #00af00; text-decoration-color: #00af00\">1,290</span> │\n",
              "└──────────────────────────────────────┴─────────────────────────────┴─────────────────┘\n",
              "</pre>\n"
            ]
          },
          "metadata": {}
        },
        {
          "output_type": "display_data",
          "data": {
            "text/plain": [
              "\u001b[1m Total params: \u001b[0m\u001b[38;5;34m225,034\u001b[0m (879.04 KB)\n"
            ],
            "text/html": [
              "<pre style=\"white-space:pre;overflow-x:auto;line-height:normal;font-family:Menlo,'DejaVu Sans Mono',consolas,'Courier New',monospace\"><span style=\"font-weight: bold\"> Total params: </span><span style=\"color: #00af00; text-decoration-color: #00af00\">225,034</span> (879.04 KB)\n",
              "</pre>\n"
            ]
          },
          "metadata": {}
        },
        {
          "output_type": "display_data",
          "data": {
            "text/plain": [
              "\u001b[1m Trainable params: \u001b[0m\u001b[38;5;34m225,034\u001b[0m (879.04 KB)\n"
            ],
            "text/html": [
              "<pre style=\"white-space:pre;overflow-x:auto;line-height:normal;font-family:Menlo,'DejaVu Sans Mono',consolas,'Courier New',monospace\"><span style=\"font-weight: bold\"> Trainable params: </span><span style=\"color: #00af00; text-decoration-color: #00af00\">225,034</span> (879.04 KB)\n",
              "</pre>\n"
            ]
          },
          "metadata": {}
        },
        {
          "output_type": "display_data",
          "data": {
            "text/plain": [
              "\u001b[1m Non-trainable params: \u001b[0m\u001b[38;5;34m0\u001b[0m (0.00 B)\n"
            ],
            "text/html": [
              "<pre style=\"white-space:pre;overflow-x:auto;line-height:normal;font-family:Menlo,'DejaVu Sans Mono',consolas,'Courier New',monospace\"><span style=\"font-weight: bold\"> Non-trainable params: </span><span style=\"color: #00af00; text-decoration-color: #00af00\">0</span> (0.00 B)\n",
              "</pre>\n"
            ]
          },
          "metadata": {}
        }
      ]
    },
    {
      "cell_type": "markdown",
      "source": [
        "### Training and Evaluation"
      ],
      "metadata": {
        "id": "JgUVUII7uBBa"
      }
    },
    {
      "cell_type": "code",
      "source": [
        "history2 = model2.fit(x_train,y_train,epochs=10,validation_data=(x_test,y_test))\n",
        "\n",
        "#Evaluation\n",
        "test_loss,test_acc = model2.evaluate(x_test,y_test)\n",
        "\n",
        "print(f\"Test Accuracy:{test_acc:.4f}\")"
      ],
      "metadata": {
        "colab": {
          "base_uri": "https://localhost:8080/"
        },
        "id": "WVFwZWQTuApx",
        "outputId": "d83f9adc-883b-4138-f3b9-010dd6e40880"
      },
      "execution_count": null,
      "outputs": [
        {
          "output_type": "stream",
          "name": "stdout",
          "text": [
            "Epoch 1/10\n",
            "\u001b[1m1875/1875\u001b[0m \u001b[32m━━━━━━━━━━━━━━━━━━━━\u001b[0m\u001b[37m\u001b[0m \u001b[1m55s\u001b[0m 28ms/step - accuracy: 0.9087 - loss: 0.3001 - val_accuracy: 0.9859 - val_loss: 0.0439\n",
            "Epoch 2/10\n",
            "\u001b[1m1875/1875\u001b[0m \u001b[32m━━━━━━━━━━━━━━━━━━━━\u001b[0m\u001b[37m\u001b[0m \u001b[1m81s\u001b[0m 28ms/step - accuracy: 0.9856 - loss: 0.0475 - val_accuracy: 0.9883 - val_loss: 0.0336\n",
            "Epoch 3/10\n",
            "\u001b[1m1875/1875\u001b[0m \u001b[32m━━━━━━━━━━━━━━━━━━━━\u001b[0m\u001b[37m\u001b[0m \u001b[1m82s\u001b[0m 28ms/step - accuracy: 0.9912 - loss: 0.0293 - val_accuracy: 0.9880 - val_loss: 0.0342\n",
            "Epoch 4/10\n",
            "\u001b[1m1875/1875\u001b[0m \u001b[32m━━━━━━━━━━━━━━━━━━━━\u001b[0m\u001b[37m\u001b[0m \u001b[1m81s\u001b[0m 28ms/step - accuracy: 0.9938 - loss: 0.0210 - val_accuracy: 0.9906 - val_loss: 0.0286\n",
            "Epoch 5/10\n",
            "\u001b[1m1875/1875\u001b[0m \u001b[32m━━━━━━━━━━━━━━━━━━━━\u001b[0m\u001b[37m\u001b[0m \u001b[1m82s\u001b[0m 28ms/step - accuracy: 0.9956 - loss: 0.0142 - val_accuracy: 0.9882 - val_loss: 0.0380\n",
            "Epoch 6/10\n",
            "\u001b[1m1875/1875\u001b[0m \u001b[32m━━━━━━━━━━━━━━━━━━━━\u001b[0m\u001b[37m\u001b[0m \u001b[1m82s\u001b[0m 28ms/step - accuracy: 0.9964 - loss: 0.0103 - val_accuracy: 0.9878 - val_loss: 0.0414\n",
            "Epoch 7/10\n",
            "\u001b[1m1875/1875\u001b[0m \u001b[32m━━━━━━━━━━━━━━━━━━━━\u001b[0m\u001b[37m\u001b[0m \u001b[1m82s\u001b[0m 28ms/step - accuracy: 0.9972 - loss: 0.0087 - val_accuracy: 0.9916 - val_loss: 0.0349\n",
            "Epoch 8/10\n",
            "\u001b[1m1875/1875\u001b[0m \u001b[32m━━━━━━━━━━━━━━━━━━━━\u001b[0m\u001b[37m\u001b[0m \u001b[1m52s\u001b[0m 28ms/step - accuracy: 0.9979 - loss: 0.0067 - val_accuracy: 0.9905 - val_loss: 0.0369\n",
            "Epoch 9/10\n",
            "\u001b[1m1875/1875\u001b[0m \u001b[32m━━━━━━━━━━━━━━━━━━━━\u001b[0m\u001b[37m\u001b[0m \u001b[1m82s\u001b[0m 28ms/step - accuracy: 0.9982 - loss: 0.0057 - val_accuracy: 0.9900 - val_loss: 0.0400\n",
            "Epoch 10/10\n",
            "\u001b[1m1875/1875\u001b[0m \u001b[32m━━━━━━━━━━━━━━━━━━━━\u001b[0m\u001b[37m\u001b[0m \u001b[1m82s\u001b[0m 28ms/step - accuracy: 0.9980 - loss: 0.0056 - val_accuracy: 0.9912 - val_loss: 0.0417\n",
            "\u001b[1m313/313\u001b[0m \u001b[32m━━━━━━━━━━━━━━━━━━━━\u001b[0m\u001b[37m\u001b[0m \u001b[1m3s\u001b[0m 8ms/step - accuracy: 0.9890 - loss: 0.0545\n",
            "Test Accuracy:0.9912\n"
          ]
        }
      ]
    },
    {
      "cell_type": "markdown",
      "source": [
        "#### Confusion Matrix and classification Report"
      ],
      "metadata": {
        "id": "bZLkfZktBf_8"
      }
    },
    {
      "cell_type": "code",
      "source": [
        "# Get model predictions\n",
        "y_pred = model2.predict(x_test)  # Use CNN model\n",
        "y_pred_classes = np.argmax(y_pred, axis=1)  # Convert softmax probabilities to class labels\n",
        "\n",
        "# Compute confusion matrix\n",
        "cm = confusion_matrix(y_test, y_pred_classes)\n",
        "\n",
        "# Plot confusion matrix\n",
        "plt.figure(figsize=(8,6))\n",
        "sns.heatmap(cm, annot=True, fmt=\"d\", cmap=\"Blues\", xticklabels=range(10), yticklabels=range(10))\n",
        "plt.xlabel(\"Predicted Label\")\n",
        "plt.ylabel(\"True Label\")\n",
        "plt.title(\"Confusion Matrix - CNN Model\")\n",
        "plt.show()\n"
      ],
      "metadata": {
        "colab": {
          "base_uri": "https://localhost:8080/",
          "height": 581
        },
        "id": "nDM3YVwABfqd",
        "outputId": "de279a3b-a5d5-441d-b303-23216fcec809"
      },
      "execution_count": null,
      "outputs": [
        {
          "output_type": "stream",
          "name": "stdout",
          "text": [
            "\u001b[1m313/313\u001b[0m \u001b[32m━━━━━━━━━━━━━━━━━━━━\u001b[0m\u001b[37m\u001b[0m \u001b[1m2s\u001b[0m 8ms/step\n"
          ]
        },
        {
          "output_type": "display_data",
          "data": {
            "text/plain": [
              "<Figure size 800x600 with 2 Axes>"
            ],
            "image/png": "[encoded data removed]"
          },
          "metadata": {}
        }
      ]
    },
    {
      "cell_type": "code",
      "source": [
        "np.bincount(y_test)"
      ],
      "metadata": {
        "colab": {
          "base_uri": "https://localhost:8080/"
        },
        "id": "3n1QNJP9B2dt",
        "outputId": "6bb29f72-fe3d-47c1-8488-a9ff3c4ab7ee"
      },
      "execution_count": null,
      "outputs": [
        {
          "output_type": "execute_result",
          "data": {
            "text/plain": [
              "array([ 980, 1135, 1032, 1010,  982,  892,  958, 1028,  974, 1009])"
            ]
          },
          "metadata": {},
          "execution_count": 14
        }
      ]
    },
    {
      "cell_type": "markdown",
      "source": [
        "**Interpretation of the confusion matrix heatmap**\n",
        "\n",
        "When we generate a confusion matrix heatmap using seaborn.heatmap(), it visually represents the performance of our classification model.\n",
        "\n",
        "**Confusion Matrix**:A confusion matrix is a table that compares the actual (true) labels and the predicted labels of our model. It helps to analyze misclassifications and measure model accuracy.\n",
        "\n",
        "**Diagonal Elements (True Positives) → Correct Predictions**\n",
        "\n",
        "* The diagonal values (from top-left to bottom-right) show the number of correct predictions.\n",
        "\n",
        "* Example: cm[0,0] = 977 → out of 980 true \"0\" images 977 were correctly classified as \"0\".\n",
        "\n",
        "* A strong model will have high values along the diagonal.\n",
        "\n",
        "**Off-Diagonal Elements → Misclassifications**\n",
        "\n",
        "* Non-diagonal values represent misclassifications (where the model predicted the wrong digit).\n",
        "\n",
        "* Example: cm[5,3] = 4 → 4 image of digit \"5\" was incorrectly classified as \"3\".\n",
        "\n",
        "**Diagonal values** = Correct classifications (higher is better).\n",
        "**Off-diagonal values** = Misclassified images (lower is better).\n",
        "\n",
        "\n"
      ],
      "metadata": {
        "id": "bOTLDd3QB7Td"
      }
    },
    {
      "cell_type": "code",
      "source": [
        "print(\"Classification Report:\\n\", classification_report(y_test, y_pred_classes))"
      ],
      "metadata": {
        "colab": {
          "base_uri": "https://localhost:8080/"
        },
        "id": "iEQMNiW2D0Qy",
        "outputId": "e5bf2d83-e445-4e7b-f44e-e20cf8aab5b7"
      },
      "execution_count": null,
      "outputs": [
        {
          "output_type": "stream",
          "name": "stdout",
          "text": [
            "Classification Report:\n",
            "               precision    recall  f1-score   support\n",
            "\n",
            "           0       0.99      1.00      0.99       980\n",
            "           1       0.99      1.00      1.00      1135\n",
            "           2       1.00      0.98      0.99      1032\n",
            "           3       0.99      1.00      0.99      1010\n",
            "           4       0.99      0.99      0.99       982\n",
            "           5       0.99      0.99      0.99       892\n",
            "           6       1.00      0.99      0.99       958\n",
            "           7       0.99      0.99      0.99      1028\n",
            "           8       0.99      0.98      0.99       974\n",
            "           9       0.99      0.99      0.99      1009\n",
            "\n",
            "    accuracy                           0.99     10000\n",
            "   macro avg       0.99      0.99      0.99     10000\n",
            "weighted avg       0.99      0.99      0.99     10000\n",
            "\n"
          ]
        }
      ]
    },
    {
      "cell_type": "markdown",
      "source": [
        "## CNN Vs Fully connected Neural Network(FCNN)"
      ],
      "metadata": {
        "id": "SVoQ9Xhu1brQ"
      }
    },
    {
      "cell_type": "markdown",
      "source": [
        "#### Results & Accuracy\n",
        "Fully Connected Network: ~98% accuracy\n",
        "\n",
        "CNN Model: ~99% accuracy\n",
        "\n",
        "CNN is better for image-based tasks because it learns patterns and reduces unnecessary computations."
      ],
      "metadata": {
        "id": "gww62qy-1pmA"
      }
    },
    {
      "cell_type": "markdown",
      "source": [
        "### Performance Plot"
      ],
      "metadata": {
        "id": "vTv6KopD252a"
      }
    },
    {
      "cell_type": "code",
      "source": [
        "import matplotlib.pyplot as plt\n",
        "\n",
        "# Plot training history\n",
        "def plot_training(history, title):\n",
        "    plt.figure(figsize=(10,4))\n",
        "\n",
        "    # Accuracy plot\n",
        "    plt.subplot(1,2,1)\n",
        "    plt.plot(history.history['accuracy'], label='Train Accuracy')\n",
        "    plt.plot(history.history['val_accuracy'], label='Validation Accuracy')\n",
        "    plt.xlabel('Epochs')\n",
        "    plt.ylabel('Accuracy')\n",
        "    plt.legend()\n",
        "    plt.title(title + \" - Accuracy\")\n",
        "\n",
        "    # Loss plot\n",
        "    plt.subplot(1,2,2)\n",
        "    plt.plot(history.history['loss'], label='Train Loss')\n",
        "    plt.plot(history.history['val_loss'], label='Validation Loss')\n",
        "    plt.xlabel('Epochs')\n",
        "    plt.ylabel('Loss')\n",
        "    plt.legend()\n",
        "    plt.title(title + \" - Loss\")\n",
        "\n",
        "    plt.show()\n",
        "\n",
        "# Call this function for both models after training\n",
        "plot_training(history1, \"Fully Connected Network\")\n",
        "plot_training(history2, \"Convolutional Neural Network\")\n"
      ],
      "metadata": {
        "colab": {
          "base_uri": "https://localhost:8080/",
          "height": 803
        },
        "id": "Of3um0H1vQm1",
        "outputId": "fe9c4902-0ff7-42cd-a190-eb69accef0f5"
      },
      "execution_count": null,
      "outputs": [
        {
          "output_type": "display_data",
          "data": {
            "text/plain": [
              "<Figure size 1000x400 with 2 Axes>"
            ],
            "image/png": "[encoded data removed]"
          },
          "metadata": {}
        },
        {
          "output_type": "display_data",
          "data": {
            "text/plain": [
              "<Figure size 1000x400 with 2 Axes>"
            ],
            "image/png": "[encoded data removed]"
          },
          "metadata": {}
        }
      ]
    },
    {
      "cell_type": "code",
      "source": [
        "# Save trained CNN model\n",
        "model2.save('mnist_cnn_model.keras')\n",
        "\n",
        "# Save trained FCNN model\n",
        "model1.save('mnist_fcnn_model.keras')\n"
      ],
      "metadata": {
        "id": "QVtiov8lGK0h"
      },
      "execution_count": null,
      "outputs": []
    },
    {
      "cell_type": "markdown",
      "source": [
        "#### Confusion Matrix and Classification Report"
      ],
      "metadata": {
        "id": "Uzbvjchs7wsp"
      }
    },
    {
      "cell_type": "markdown",
      "source": [
        "#### FCNN Vs CNN\n",
        "\n",
        "<table border=\"1\">\n",
        "  <tr>\n",
        "    <th>Feature</th>\n",
        "    <th>Fully Connected Neural Network(FCNN)</th>\n",
        "    <th>Convolutional Neural Network(CNN)</th>\n",
        "  </tr>\n",
        "  <tr>\n",
        "    <td>Architecture </td>\n",
        "    <td>Consists of multiple Dense (Fully Connected) layers.</td>\n",
        "    <td>Includes Convolutional, Pooling, and Fully Connected layers.</td>\n",
        "  </tr>\n",
        "  <tr>\n",
        "    <td>Input Handling</td>\n",
        "    <td>Requires the image to be flattened (28×28 → 784 pixels).</td>\n",
        "    <td>Preserves the 2D spatial structure of images.</td>\n",
        "  </tr>\n",
        "  <tr>\n",
        "    <td>Feature Extraction</td>\n",
        "    <td>Does not extract features automatically; learns raw pixel relationships.</td>\n",
        "    <td>Uses filters (kernels) to detect edges, textures, and patterns.</td>\n",
        "  </tr>\n",
        "  <tr>\n",
        "    <td>Number of Parameters</td>\n",
        "    <td>Very high because every neuron is connected to all previous neurons.</td>\n",
        "    <td>Lower because filters (kernels) share weights across the image.</td>\n",
        "  </tr>\n",
        "  <tr>\n",
        "    <td>Computation Cost</td>\n",
        "    <td>High due to the large number of parameters.</td>\n",
        "    <td>Lower because of shared weights and fewer connections.</td>\n",
        "  </tr>\n",
        "  <tr>\n",
        "    <td>Risk of Overfitting</td>\n",
        "    <td>More prone to overfitting due to large parameters.</td>\n",
        "    <td>Less overfitting due to weight sharing and pooling layers.</td>\n",
        "  </tr>\n",
        "  <tr>\n",
        "    <td>Performance on Images</td>\n",
        "    <td>Works well for simple data but struggles with complex images.</td>\n",
        "    <td>Much better for image-related tasks due to hierarchical feature learning.</td>\n",
        "  </tr>\n",
        "  <tr>\n",
        "    <td>Training Time</td>\n",
        "    <td>Slower, as it requires more computations.</td>\n",
        "    <td>Faster due to fewer parameters and efficient feature extraction.</td>\n",
        "  </tr>\n",
        "  <tr>\n",
        "    <td>Use Cases</td>\n",
        "    <td>Good for tabular data, structured inputs, and simple image classification.</td>\n",
        "    <td>Best for image recognition, object detection, and complex vision tasks.</td>\n",
        "  </tr>\n",
        "</table>\n",
        "\n",
        "    "
      ],
      "metadata": {
        "id": "pXmxntDR3OmX"
      }
    },
    {
      "cell_type": "markdown",
      "source": [
        "### When to use FCNN Vs CNN\n",
        "<table border=\"1\">\n",
        "  <tr>\n",
        "    <th>Scenario</th>\n",
        "    <th>Use FCNN</th>\n",
        "    <th>Use CNN</th>\n",
        "  </tr>\n",
        "  <tr>\n",
        "    <td>Tabular Data (Numbers, Text, Sensors, Financial Data, etc.)</td>\n",
        "    <td>Best choice</td>\n",
        "    <td>Not suitable</td>\n",
        "  </tr>\n",
        "  <tr>\n",
        "    <td>Simple Image Classification (e.g., MNIST Digits)</td>\n",
        "    <td>Works well</td>\n",
        "    <td>Works better</td>\n",
        "  </tr>\n",
        "  <tr>\n",
        "    <td>Complex Image Recognition (Faces, Animals, Objects, etc.)</td>\n",
        "    <td>Poor performance</td>\n",
        "    <td>Best choice</td>\n",
        "  </tr>\n",
        "  <tr>\n",
        "    <td>Video Processing, Object Detection, Self-Driving Cars</td>\n",
        "    <td>Not suitable</td>\n",
        "    <td>Best choice</td>\n",
        "  </tr>\n",
        "  <tr>\n",
        "    <td>Computational Efficiency Needed</td>\n",
        "    <td>Slow, High Memory Usage</td>\n",
        "    <td>Faster, Efficient</td>\n",
        "  </tr>\n",
        "</table>\n"
      ],
      "metadata": {
        "id": "Y20UrEcQWRkx"
      }
    },
    {
      "cell_type": "markdown",
      "source": [
        "**Conclusion:**\n",
        "\n",
        "From the results, the CNN model outperforms the FCNN model in terms of accuracy and generalization. This proves that CNNs are more efficient for image classification as they capture spatial features better. Future improvements can include using Dropout, Data Augmentation, and Hyperparameter Tuning to improve accuracy further."
      ],
      "metadata": {
        "id": "Z0NO1f2WEVnh"
      }
    }
  ]
}